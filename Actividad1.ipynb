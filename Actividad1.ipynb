{
  "nbformat": 4,
  "nbformat_minor": 0,
  "metadata": {
    "colab": {
      "name": "Actividad1.ipynb",
      "provenance": [],
      "collapsed_sections": [],
      "authorship_tag": "ABX9TyMkDLZs4d2TZDR03jbY2FD9",
      "include_colab_link": true
    },
    "kernelspec": {
      "display_name": "Python 3",
      "name": "python3"
    },
    "language_info": {
      "name": "python"
    }
  },
  "cells": [
    {
      "cell_type": "markdown",
      "metadata": {
        "id": "view-in-github",
        "colab_type": "text"
      },
      "source": [
        "<a href=\"https://colab.research.google.com/github/LauraRivera01/PrincipiosDePhyton/blob/main/Actividad1.ipynb\" target=\"_parent\"><img src=\"https://colab.research.google.com/assets/colab-badge.svg\" alt=\"Open In Colab\"/></a>"
      ]
    },
    {
      "cell_type": "code",
      "metadata": {
        "id": "mp69Wg0lRwJy",
        "colab": {
          "base_uri": "https://localhost:8080/"
        },
        "outputId": "666bc432-d59f-452c-dc8a-00ddaf4b5c6e"
      },
      "source": [
        "print(\"Conversion de Fahrenheit a Celsius\")\n",
        "f = float(input(\"Dame la temperatura en Fahrenheit:\"))\n",
        "c = (f-32)*5/9\n",
        "print(\"La temperatura en Celsius es: \", c)"
      ],
      "execution_count": null,
      "outputs": [
        {
          "output_type": "stream",
          "text": [
            "Conversion de Fahrenheit a Celsius\n",
            "Dame la temperatura en Fahrenheit:125\n",
            "La temperatura en Celsius es:  51.666666666666664\n"
          ],
          "name": "stdout"
        }
      ]
    },
    {
      "cell_type": "code",
      "metadata": {
        "colab": {
          "base_uri": "https://localhost:8080/"
        },
        "id": "te3xb52-yrBO",
        "outputId": "e755fa53-12ac-4551-fd6d-0dbccff0c87e"
      },
      "source": [
        " year_actual = int (input ('Ingresa el año actual: '))\n",
        "year_de_nacimiento = int (input ('Ingresa el año de tu nacimiento: '))\n",
        "dia_actual = int (input ('Ingresa el de dia actual: '))\n",
        "dia_de_nacimiento = int (input ('Ingresa el  dia de tu nacimiento: '))\n",
        "mes_actual = int (input ('Ingresa el  mes actual: '))\n",
        "mes_de_nacimiento = int (input ('Ingresa el  mes de tu  nacimiento: '))\n",
        "edad=year_actual-year_de_nacimiento\n",
        "if mes_de_nacimiento>mes_actual or (mes_de_nacimiento==mes_actual and dia_de_nacimiento>dia_actual):\n",
        "    edad=edad-1\n",
        "print ('Tu edad es: ' + repr (edad))\n",
        "print ()"
      ],
      "execution_count": null,
      "outputs": [
        {
          "output_type": "stream",
          "text": [
            "Ingresa el año actual: 2021\n",
            "Ingresa el año de tu nacimiento: 1990\n",
            "Ingresa el de dia actual: 1\n",
            "Ingresa el  dia de tu nacimiento: 12\n",
            "Ingresa el  mes actual: 8\n",
            "Ingresa el  mes de tu  nacimiento: 8\n",
            "Valor de edad: 30\n",
            "\n"
          ],
          "name": "stdout"
        }
      ]
    },
    {
      "cell_type": "code",
      "metadata": {
        "colab": {
          "base_uri": "https://localhost:8080/"
        },
        "id": "aac2WkkwSXT2",
        "outputId": "96e3bf5c-2c0b-4b2e-8880-d00149842ff9"
      },
      "source": [
        "print(\"Escribe las notas del Semestre\")\n",
        "C1 = float(input(\"Ingrese las notas de Computo 1:\"))\n",
        "C2 = float(input(\"Ingrese las notas de Computo as de Computo 2:\"))\n",
        "C3= float(input(\"Ingrese las notas de Computo as de Computo 3:\")) \n",
        "nota = C1+C2+C3\n",
        "nota = nota/3\n",
        "print(\"Tu Nota Final es:\"+repr(nota))"
      ],
      "execution_count": null,
      "outputs": [
        {
          "output_type": "stream",
          "text": [
            "Escribe las notas de promedio\n",
            "Ingrese las notas de Computo 1:10\n",
            "Ingrese las notas de Computo as de Computo 2:8\n",
            "Ingrese las notas de Computo as de Computo 3:5\n",
            "Tu Nota Final es:7.666666666666667\n"
          ],
          "name": "stdout"
        }
      ]
    }
  ]
}