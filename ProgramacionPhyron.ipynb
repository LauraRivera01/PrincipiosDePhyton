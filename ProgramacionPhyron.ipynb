{
  "nbformat": 4,
  "nbformat_minor": 0,
  "metadata": {
    "colab": {
      "name": "ProgramacionPhyron.ipynb",
      "provenance": [],
      "authorship_tag": "ABX9TyNBKSlT/6f32yviEW7X8qr2",
      "include_colab_link": true
    },
    "kernelspec": {
      "name": "python3",
      "display_name": "Python 3"
    },
    "language_info": {
      "name": "python"
    }
  },
  "cells": [
    {
      "cell_type": "markdown",
      "metadata": {
        "id": "view-in-github",
        "colab_type": "text"
      },
      "source": [
        "<a href=\"https://colab.research.google.com/github/LauraRivera01/PrincipiosDePhyton/blob/main/ProgramacionPhyron.ipynb\" target=\"_parent\"><img src=\"https://colab.research.google.com/assets/colab-badge.svg\" alt=\"Open In Colab\"/></a>"
      ]
    },
    {
      "cell_type": "code",
      "metadata": {
        "id": "rvvQ1-oqR1Sj",
        "colab": {
          "base_uri": "https://localhost:8080/"
        },
        "outputId": "6c723b4a-4ca9-4c06-eb99-dfb869983322"
      },
      "source": [
        " \n",
        "def Suma():\n",
        "    num1 = float(input(\"Dime un Numero: \"))\n",
        "    num2 = float(input(\"Dime un segundo Numero: \"))\n",
        "    print(\"La suma es:\" , num1 + num2)\n",
        "Suma()"
      ],
      "execution_count": null,
      "outputs": [
        {
          "output_type": "stream",
          "text": [
            "Dime un Numero: 5\n",
            "Dime un segundo Numero: 5\n",
            "La suma es: 10.0\n"
          ],
          "name": "stdout"
        }
      ]
    },
    {
      "cell_type": "code",
      "metadata": {
        "colab": {
          "base_uri": "https://localhost:8080/"
        },
        "id": "DVSU1DNLY3LJ",
        "outputId": "4dd23aa2-dd5a-4b5c-fed2-c797ca2ea59c"
      },
      "source": [
        "print(\"Conversion de Fahrenheit a Celsius\")\n",
        "f = float(input(\"Dame la temperatura en Fahrenheit:\"))\n",
        "c = (f-32)*5/9\n",
        "print(\"La temperatura en Celsius es: \", c)"
      ],
      "execution_count": null,
      "outputs": [
        {
          "output_type": "stream",
          "text": [
            "Conversion de Fahrenheit a Celsius\n",
            "Dame la temperatura en Fahrenheit:105\n",
            "La temperatura en Celsius es:  40.55555555555556\n"
          ],
          "name": "stdout"
        }
      ]
    },
    {
      "cell_type": "code",
      "metadata": {
        "colab": {
          "base_uri": "https://localhost:8080/"
        },
        "id": "MUWhQyfucJQD",
        "outputId": "aa4e704e-ca3c-4aeb-c644-54f41d081990"
      },
      "source": [
        "print(\"Conversion de Celsius a Fahrenheit\")\n",
        "c = float(input(\"Dame la temperatura en Celsius:\"))\n",
        "f = (c-100)*9/5\n",
        "print(\"La temperatura en Fahrenheit es:\", f)\n"
      ],
      "execution_count": null,
      "outputs": [
        {
          "output_type": "stream",
          "text": [
            "Conversion de Celsius a Fahrenheit\n",
            "Dame la temperatura en Celsius:35\n",
            "La temperatura en Fahrenheit es: -117.0\n"
          ],
          "name": "stdout"
        }
      ]
    },
    {
      "cell_type": "code",
      "metadata": {
        "colab": {
          "base_uri": "https://localhost:8080/"
        },
        "id": "EeSKJgPCZbSU",
        "outputId": "f35b0e7f-09a9-4078-d525-3a9112ba28af"
      },
      "source": [
        "nombrePersona = input(\"Dame tu nombre: \")\n",
        "print(\"Hola, \" , nombrePersona)\n",
        "estado = input(\"Como te encuentras hoy: \")\n",
        "print(\"Buen dia\", nombrePersona, \", estas\", estado)"
      ],
      "execution_count": null,
      "outputs": [
        {
          "output_type": "stream",
          "text": [
            "Dame tu nombre: Laura\n",
            "Hola,  Laura\n",
            "Como te encuentras hoy: hecha leña\n",
            "Buen dia Laura , estas hecha leña\n"
          ],
          "name": "stdout"
        }
      ]
    },
    {
      "cell_type": "code",
      "metadata": {
        "colab": {
          "base_uri": "https://localhost:8080/"
        },
        "id": "dpPzfWbGUJ4Q",
        "outputId": "2b73363a-8d83-4355-c1df-530eb89a3426"
      },
      "source": [
        " \n",
        "def calcularSueldo():\n",
        "    \n",
        "    hrsExtras = 0\n",
        "    if(numH > 8):\n",
        "     hrsExtras = int(numH) - 8\n",
        "    sueldo = ((8*valorHrs)+(hrsExtras*valorHrs*2))*30\n",
        "    print(\"Tu sueldo es \", sueldo)\n",
        "print(\"Calculemos tu salario\")\n",
        "numH = int(input(\"Dame el numero de horas \"))\n",
        "valorHrs = int(input(\"Dame el valor por hora \"))\n",
        "calcularSueldo()"
      ],
      "execution_count": null,
      "outputs": [
        {
          "output_type": "stream",
          "text": [
            "Calculemos tu salario\n",
            "Dame el numero de horas 8\n",
            "Dame el valor por hora 8\n",
            "Tu sueldo es  1920\n"
          ],
          "name": "stdout"
        }
      ]
    }
  ]
}